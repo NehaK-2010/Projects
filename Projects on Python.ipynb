{
 "cells": [
  {
   "cell_type": "markdown",
   "metadata": {
    "application/vnd.databricks.v1+cell": {
     "cellMetadata": {},
     "inputWidgets": {},
     "nuid": "451d80e2-eb00-44d0-b10a-48044b0a75c9",
     "showTitle": false,
     "tableResultSettingsMap": {},
     "title": ""
    }
   },
   "source": [
    "### Small Projects"
   ]
  },
  {
   "cell_type": "code",
   "execution_count": 0,
   "metadata": {
    "application/vnd.databricks.v1+cell": {
     "cellMetadata": {
      "byteLimit": 2048000,
      "rowLimit": 10000
     },
     "inputWidgets": {},
     "nuid": "4356ab54-a35d-4f1b-87d0-614e793e25e0",
     "showTitle": false,
     "tableResultSettingsMap": {},
     "title": ""
    }
   },
   "outputs": [],
   "source": [
    "emp =[]\n",
    "n = int(input(\"Enter the number of names: \"))\n",
    "\n",
    "#insert the values in list\n",
    "for i in range(n):\n",
    "    name = input(\"Enter the name: \")\n",
    "    emp.append(name)\n",
    "print(emp)\n"
   ]
  },
  {
   "cell_type": "code",
   "execution_count": 0,
   "metadata": {
    "application/vnd.databricks.v1+cell": {
     "cellMetadata": {
      "byteLimit": 2048000,
      "rowLimit": 10000
     },
     "inputWidgets": {},
     "nuid": "770d1165-2e63-4688-ba62-128a87cf9ee7",
     "showTitle": false,
     "tableResultSettingsMap": {},
     "title": ""
    }
   },
   "outputs": [],
   "source": [
    "def greet(nm):\n",
    "    print(f\"Hello {nm}!!!\")\n",
    "\n",
    "def team_size(n):\n",
    "    if n>0:\n",
    "        print(\"Team size is Big\")\n",
    "    else:\n",
    "        print(\"Team size is Small\")\n",
    "\n",
    "for idx, member in enumerate(emp):\n",
    "    print(f\"Member {idx+1}!!!\")\n",
    "    greet(member)\n",
    "print(\"*******************************\")\n",
    "team_size(n)\n"
   ]
  },
  {
   "cell_type": "code",
   "execution_count": 0,
   "metadata": {
    "application/vnd.databricks.v1+cell": {
     "cellMetadata": {},
     "inputWidgets": {},
     "nuid": "38baa6ea-7631-4643-aa5d-63e56d2a0258",
     "showTitle": false,
     "tableResultSettingsMap": {},
     "title": ""
    }
   },
   "outputs": [],
   "source": []
  }
 ],
 "metadata": {
  "application/vnd.databricks.v1+notebook": {
   "computePreferences": null,
   "dashboards": [],
   "environmentMetadata": {
    "base_environment": "",
    "environment_version": "2"
   },
   "inputWidgetPreferences": null,
   "language": "python",
   "notebookMetadata": {
    "pythonIndentUnit": 4
   },
   "notebookName": "Projects on Python",
   "widgets": {}
  },
  "language_info": {
   "name": "python"
  }
 },
 "nbformat": 4,
 "nbformat_minor": 0
}
